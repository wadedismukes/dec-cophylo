{
 "cells": [
  {
   "cell_type": "markdown",
   "metadata": {},
   "source": [
    "# Prototyping simulation study using DEC model for Cophylogeny\n",
    "\n",
    "This notebook is a basic run through of the workflow that will be used to perform simulations for testing the usefulness of utilizing the epoch-DEC model used in biogeography for examining cophylogeny. Here the dispersal part of this model corresponds to host-switching, the extirpation part to extinction of a symbiont within a host, and the cladogenesis part the various sorting events occuring when the host speciates (including cospeciation). The hosts here act as the biogeographic areas upon which the symbionts live. For now I am testing this using only true trees simulated using [`treeducken`](https://github.com/wadedismukes/treeducken). While these simulations will reflect a mode of gene and spceies tree evolution and are thus not the most biologically realistic way to test this model, I think this is a good starting place. Especially with regards to comparing these models to other methods for examining cophylogeny. \n",
    "\n",
    "\n",
    "### Functions for making `treeducken` settings files\n",
    "\n",
    "Below are a few functions used to make the settings files for treeducken. For now I am varying only transfer rate with 12 extant tips. The first of these functions `calculate_birth_rate` calculates the birth rate for a number of extant tips, given an expected tree depth, and turnover rate. This allows all of the simulation regimes to have roughly the same timescale upon which they act. The last two functions in this codeblock are simply utilities for generating the settings files. "
   ]
  },
  {
   "cell_type": "code",
   "execution_count": 4,
   "metadata": {},
   "outputs": [],
   "source": [
    "import math\n",
    "\n",
    "def calculate_birth_rate(ntaxa, k, turnover, tre_dep):\n",
    "    if(turnover != 0):\n",
    "        sum_val_i = 0.0\n",
    "        sum_val_j = 0.0\n",
    "        birth_rate = ((k + 1) / tre_dep) * calculate_combinations(ntaxa, k + 1) * (-1)**k\n",
    "        for i in range(0, ntaxa - k - 1):\n",
    "            temp = calculate_combinations(ntaxa - k - 1, i)\n",
    "            temp *= 1 / ((k + i + 1) * turnover)\n",
    "            temp *= (1/turnover - 1)**(k + i)\n",
    "            for j in range(1, k + i + 1):\n",
    "                temp_j = calculate_combinations(k + i, j)\n",
    "                temp_j *= ((-1)**j) / j\n",
    "                temp_j *= (1 - (1 / (1 - turnover))**j)\n",
    "                sum_val_j += temp_j\n",
    "            sum_val_i += temp * (math.log(1 / (1 - turnover)) - sum_val_j)\n",
    "        birth_rate *= sum_val_i  \n",
    "    else:\n",
    "        sum_val = 0.0\n",
    "        for i in range(k + 1, ntaxa + 1):\n",
    "            sum_val += (1 / (i * tre_dep))\n",
    "        birth_rate = abs(2.0 * sum_val)\n",
    "    return(birth_rate)\n",
    "\n",
    "\n",
    "def calculate_combinations(n, k):\n",
    "    n_fac = math.factorial(n)\n",
    "    k_fac = math.factorial(k)\n",
    "    n_k_fac = math.factorial(n - k)\n",
    "    numer = math.log(n_fac)\n",
    "    denom = math.log(k_fac) + math.log(n_k_fac)\n",
    "    return(round(math.exp(numer - denom)))\n",
    "\n",
    "def make_settings_dict(sbr, sdr, trr, gbr, gdr, nt, ipp, ne, reps, nl, ng):\n",
    "    settings_dict = {}\n",
    "    key_list = [(\"-sbr\",sbr),\n",
    "                (\"-sdr\",sdr),\n",
    "                (\"-gbr\", gbr),\n",
    "                (\"-gdr\", gdr),\n",
    "                (\"-lgtr\",trr),\n",
    "                (\"-ipp\",ipp),\n",
    "                (\"-nt\",nt),\n",
    "                (\"-r\",reps),\n",
    "                (\"-ne\",ne),\n",
    "                (\"-nl\",nl),\n",
    "                (\"-ng\",ng),\n",
    "                (\"-o\", \"hsrate_\" + str(trr)),\n",
    "                (\"-sout\", 0)]\n",
    "    settings_dict = dict(key_list)\n",
    "    return(settings_dict)\n",
    "\n",
    "def settings_writer(dictionary_settings, file_begin):\n",
    "    file_name_end = \"_settings.txt\"\n",
    "    file_begin += file_name_end       \n",
    "    file_handle = open(file_begin, \"w\")\n",
    "    for key, value in dictionary_settings.items():\n",
    "        file_handle.write(key + \" \" + str(value) + \"\\n\")\n",
    "    file_handle.close()"
   ]
  },
  {
   "cell_type": "markdown",
   "metadata": {},
   "source": [
    "### Setting simulation parameters and printing files\n",
    "Here I have set the model parameters to be printed into settings files at the top. The for loop generates the number of regimes I want to simulate under. The number of tips and timing (13 here corresponding to 13 million years ago (mya)) were chosen to mimic the Geomyidae gophers and their chewing lice parasites."
   ]
  },
  {
   "cell_type": "code",
   "execution_count": 5,
   "metadata": {},
   "outputs": [],
   "source": [
    "nt = 12\n",
    "turnover = 0.5\n",
    "br = calculate_birth_rate(nt, 1, turnover, 13)\n",
    "dr = br * turnover\n",
    "trr = [0.0, 0.25, 0.5, 1.0]\n",
    "gbr = 0.1\n",
    "gdr = 0.1\n",
    "reps = 1000\n",
    "nl = 1\n",
    "ng = 1\n",
    "ipp = 1.0\n",
    "ne = 1.0\n",
    "num_setting_regimes = len(trr)\n",
    "\n",
    "for i in range(num_setting_regimes):\n",
    "    settings_regime_name = str(trr[i]) + \"_trate\"\n",
    "    sett_dict = make_settings_dict(br, dr, trr[i], gbr, gdr, nt, 1, 1, reps, nl, ng)\n",
    "    settings_writer(sett_dict, settings_regime_name)"
   ]
  },
  {
   "cell_type": "markdown",
   "metadata": {},
   "source": [
    "## Running simulations\n",
    "Now that I have printed out my settings files, I can use `treeducken` to generate my trees. First, I have to install `treeducken` here in the docker instance of this jupyter notebook."
   ]
  },
  {
   "cell_type": "code",
   "execution_count": 6,
   "metadata": {},
   "outputs": [
    {
     "name": "stdout",
     "output_type": "stream",
     "text": [
      "g++ -o ../treeducken Treeducken.o SpeciesTree.o Simulator.o GeneTree.o LocusTree.o MbRandom.o Tree.o Engine.o\n"
     ]
    },
    {
     "name": "stderr",
     "output_type": "stream",
     "text": [
      "fatal: destination path 'treeducken' already exists and is not an empty directory.\n"
     ]
    }
   ],
   "source": [
    "%%bash\n",
    "git clone https://github.com/wadedismukes/treeducken.git\n",
    "cd treeducken/src && make install"
   ]
  },
  {
   "cell_type": "markdown",
   "metadata": {},
   "source": [
    "Now run the simulations! "
   ]
  },
  {
   "cell_type": "code",
   "execution_count": 7,
   "metadata": {},
   "outputs": [
    {
     "name": "stdout",
     "output_type": "stream",
     "text": [
      "############################################################\n",
      "####\ttreeducken, version 0.1 \t\t\t####\n",
      "####\te845a82c08ba308f75f94a270b81a36870299b94\t####\n",
      "############################################################\n",
      "Simulating sets of three trees.\n",
      "\t\toutput file name prefix         = hsrate_0.0\n",
      "\t\tNumber of extant taxa           = 12\n",
      "\t\tNumber of replicates            = 1000\n",
      "\t\tNumber of loci to simulate      = 1\n",
      "\t\tNumber of genes to simulate     = 1\n",
      "\t\tSpecies birth rate              = 10642.5\n",
      "\t\tSpecies death rate              = 5321.25\n",
      "\t\tGene birth rate                 = 0.1\n",
      "\t\tGene death rate                 = 0.1\n",
      "\t\tGene transfer rate              = 0\n",
      "\t\tIndividuals to sample per locus = 1\n",
      "\t\tEffective pop size per locus    = 1\n",
      "\t\tTree fraction to set outgroup   = 0\n",
      "\t\tSpecies tree input as newick    = \n",
      "\t\tTree scale                      = -1\n",
      "\n",
      "Seeds = {52702, 23707}\n",
      "############################################################\n",
      "####\ttreeducken, version 0.1 \t\t\t####\n",
      "####\te845a82c08ba308f75f94a270b81a36870299b94\t####\n",
      "############################################################\n",
      "Simulating sets of three trees.\n",
      "\t\toutput file name prefix         = hsrate_0.25\n",
      "\t\tNumber of extant taxa           = 12\n",
      "\t\tNumber of replicates            = 1000\n",
      "\t\tNumber of loci to simulate      = 1\n",
      "\t\tNumber of genes to simulate     = 1\n",
      "\t\tSpecies birth rate              = 10642.5\n",
      "\t\tSpecies death rate              = 5321.25\n",
      "\t\tGene birth rate                 = 0.1\n",
      "\t\tGene death rate                 = 0.1\n",
      "\t\tGene transfer rate              = 0.25\n",
      "\t\tIndividuals to sample per locus = 1\n",
      "\t\tEffective pop size per locus    = 1\n",
      "\t\tTree fraction to set outgroup   = 0\n",
      "\t\tSpecies tree input as newick    = \n",
      "\t\tTree scale                      = -1\n",
      "\n",
      "Seeds = {52720, 23707}\n",
      "############################################################\n",
      "####\ttreeducken, version 0.1 \t\t\t####\n",
      "####\te845a82c08ba308f75f94a270b81a36870299b94\t####\n",
      "############################################################\n",
      "Simulating sets of three trees.\n",
      "\t\toutput file name prefix         = hsrate_0.5\n",
      "\t\tNumber of extant taxa           = 12\n",
      "\t\tNumber of replicates            = 1000\n",
      "\t\tNumber of loci to simulate      = 1\n",
      "\t\tNumber of genes to simulate     = 1\n",
      "\t\tSpecies birth rate              = 10642.5\n",
      "\t\tSpecies death rate              = 5321.25\n",
      "\t\tGene birth rate                 = 0.1\n",
      "\t\tGene death rate                 = 0.1\n",
      "\t\tGene transfer rate              = 0.5\n",
      "\t\tIndividuals to sample per locus = 1\n",
      "\t\tEffective pop size per locus    = 1\n",
      "\t\tTree fraction to set outgroup   = 0\n",
      "\t\tSpecies tree input as newick    = \n",
      "\t\tTree scale                      = -1\n",
      "\n",
      "Seeds = {52738, 23707}\n",
      "############################################################\n",
      "####\ttreeducken, version 0.1 \t\t\t####\n",
      "####\te845a82c08ba308f75f94a270b81a36870299b94\t####\n",
      "############################################################\n",
      "Simulating sets of three trees.\n",
      "\t\toutput file name prefix         = hsrate_1.0\n",
      "\t\tNumber of extant taxa           = 12\n",
      "\t\tNumber of replicates            = 1000\n",
      "\t\tNumber of loci to simulate      = 1\n",
      "\t\tNumber of genes to simulate     = 1\n",
      "\t\tSpecies birth rate              = 10642.5\n",
      "\t\tSpecies death rate              = 5321.25\n",
      "\t\tGene birth rate                 = 0.1\n",
      "\t\tGene death rate                 = 0.1\n",
      "\t\tGene transfer rate              = 1\n",
      "\t\tIndividuals to sample per locus = 1\n",
      "\t\tEffective pop size per locus    = 1\n",
      "\t\tTree fraction to set outgroup   = 0\n",
      "\t\tSpecies tree input as newick    = \n",
      "\t\tTree scale                      = -1\n",
      "\n",
      "Seeds = {52759, 23707}\n"
     ]
    }
   ],
   "source": [
    "%%bash\n",
    "\n",
    "find *_settings.txt | xargs -I {} treeducken/treeducken -i {}"
   ]
  },
  {
   "cell_type": "code",
   "execution_count": 8,
   "metadata": {},
   "outputs": [],
   "source": [
    "%%bash\n",
    "mkdir -p settings\n",
    "mkdir -p hsrate_0-0\n",
    "mkdir -p hsrate_0-25\n",
    "mkdir -p hsrate_0-5\n",
    "mkdir -p hsrate_1-0\n",
    "mv *settings.txt settings/\n",
    "mv hsrate_0.0* hsrate_0-0/\n",
    "mv hsrate_0.25* hsrate_0-25/\n",
    "mv hsrate_0.5* hsrate_0-5/\n",
    "mv hsrate_1.0* hsrate_1-0/"
   ]
  },
  {
   "cell_type": "markdown",
   "metadata": {},
   "source": [
    "### Creating extra datafiles for use with DEC model\n",
    "With trees in hand, I need to make a few more files to run the epoch DEC model. I need to make a \"range\" file for the symbionts. To do this we need to parse the tips of the locus tree which is our stand-in for the symbiont tree. First, I'm going to set up the R environment to process tree files."
   ]
  },
  {
   "cell_type": "code",
   "execution_count": 10,
   "metadata": {},
   "outputs": [
    {
     "name": "stdout",
     "output_type": "stream",
     "text": [
      "Collecting rpy2\n",
      "  Downloading https://files.pythonhosted.org/packages/9c/81/86f9ba26b4fb27c17a143c064301f4928681c96c09c59edb23a44767c3d6/rpy2-3.0.1.tar.gz (117kB)\n",
      "Collecting pytest (from rpy2)\n",
      "  Downloading https://files.pythonhosted.org/packages/c8/52/c455e718f19e4fd7126c81b4910ca2431ded6c28b97e36a1a1f5e5ef7247/pytest-4.3.1-py2.py3-none-any.whl (219kB)\n",
      "Requirement already satisfied: jinja2 in /opt/conda/lib/python3.6/site-packages (from rpy2)\n",
      "Requirement already satisfied: simplegeneric in /opt/conda/lib/python3.6/site-packages (from rpy2)\n",
      "Requirement already satisfied: cffi>=1.0.0 in /opt/conda/lib/python3.6/site-packages (from rpy2)\n",
      "Requirement already satisfied: six>=1.10.0 in /opt/conda/lib/python3.6/site-packages (from pytest->rpy2)\n",
      "Collecting more-itertools>=4.0.0; python_version > \"2.7\" (from pytest->rpy2)\n",
      "  Downloading https://files.pythonhosted.org/packages/ae/d4/d6bad4844831943dd667510947712750004525c5807711982f4ec390da2b/more_itertools-6.0.0-py3-none-any.whl (52kB)\n",
      "Collecting attrs>=17.4.0 (from pytest->rpy2)\n",
      "  Downloading https://files.pythonhosted.org/packages/23/96/d828354fa2dbdf216eaa7b7de0db692f12c234f7ef888cc14980ef40d1d2/attrs-19.1.0-py2.py3-none-any.whl\n",
      "Collecting pluggy>=0.7 (from pytest->rpy2)\n",
      "  Downloading https://files.pythonhosted.org/packages/84/e8/4ddac125b5a0e84ea6ffc93cfccf1e7ee1924e88f53c64e98227f0af2a5f/pluggy-0.9.0-py2.py3-none-any.whl\n",
      "Collecting py>=1.5.0 (from pytest->rpy2)\n",
      "  Downloading https://files.pythonhosted.org/packages/76/bc/394ad449851729244a97857ee14d7cba61ddb268dce3db538ba2f2ba1f0f/py-1.8.0-py2.py3-none-any.whl (83kB)\n",
      "Requirement already satisfied: setuptools in /opt/conda/lib/python3.6/site-packages (from pytest->rpy2)\n",
      "Collecting atomicwrites>=1.0 (from pytest->rpy2)\n",
      "  Downloading https://files.pythonhosted.org/packages/52/90/6155aa926f43f2b2a22b01be7241be3bfd1ceaf7d0b3267213e8127d41f4/atomicwrites-1.3.0-py2.py3-none-any.whl\n",
      "Requirement already satisfied: MarkupSafe>=0.23 in /opt/conda/lib/python3.6/site-packages (from jinja2->rpy2)\n",
      "Requirement already satisfied: pycparser in /opt/conda/lib/python3.6/site-packages (from cffi>=1.0.0->rpy2)\n",
      "Building wheels for collected packages: rpy2\n",
      "  Running setup.py bdist_wheel for rpy2: started\n",
      "  Running setup.py bdist_wheel for rpy2: finished with status 'done'\n",
      "  Stored in directory: /home/jovyan/.cache/pip/wheels/a8/70/ed/8ed99930ef5a7ba56f7bacb08d9363ecd29bc289eb80c41554\n",
      "Successfully built rpy2\n",
      "Installing collected packages: more-itertools, attrs, pluggy, py, atomicwrites, pytest, rpy2\n",
      "Successfully installed atomicwrites-1.3.0 attrs-19.1.0 more-itertools-6.0.0 pluggy-0.9.0 py-1.8.0 pytest-4.3.1 rpy2-3.0.1\n"
     ]
    },
    {
     "name": "stderr",
     "output_type": "stream",
     "text": [
      "You are using pip version 9.0.1, however version 19.0.3 is available.\n",
      "You should consider upgrading via the 'pip install --upgrade pip' command.\n"
     ]
    }
   ],
   "source": [
    "%%bash\n",
    "pip install --upgrade pip\n",
    "pip install rpy2"
   ]
  },
  {
   "cell_type": "code",
   "execution_count": 19,
   "metadata": {
    "scrolled": true
   },
   "outputs": [
    {
     "ename": "SyntaxError",
     "evalue": "invalid syntax (<ipython-input-19-c252d0bcce1d>, line 2)",
     "output_type": "error",
     "traceback": [
      "\u001b[0;36m  File \u001b[0;32m\"<ipython-input-19-c252d0bcce1d>\"\u001b[0;36m, line \u001b[0;32m2\u001b[0m\n\u001b[0;31m    %%R\u001b[0m\n\u001b[0m    ^\u001b[0m\n\u001b[0;31mSyntaxError\u001b[0m\u001b[0;31m:\u001b[0m invalid syntax\n"
     ]
    }
   ],
   "source": [
    "%load_ext rpy2.ipython\n"
   ]
  },
  {
   "cell_type": "code",
   "execution_count": 22,
   "metadata": {},
   "outputs": [
    {
     "name": "stderr",
     "output_type": "stream",
     "text": [
      "R[write to console]: Updating HTML index of packages in '.Library'\n",
      "\n",
      "R[write to console]: Making 'packages.html' ...\n",
      "R[write to console]:  done\n",
      "\n"
     ]
    }
   ],
   "source": [
    "%%R\n",
    "install.packages(\"ape\",repos='http://cran.us.r-project.org', quiet=TRUE)\n",
    "library(ape)"
   ]
  },
  {
   "cell_type": "markdown",
   "metadata": {},
   "source": [
    "I will also need to encode my \"paleogeographic\" data in terms of the divergence times of the species which define our epochs, the distances defined by the species tree that way we can test whether random vs. clade biased host-switching provides a better fit. We also need connectivity to define which species are available to be hosts at which times."
   ]
  },
  {
   "cell_type": "code",
   "execution_count": 50,
   "metadata": {},
   "outputs": [],
   "source": [
    "%%R -i reps\n",
    "# read in species trees to get the min and max ages of \"epochs\"\n",
    "dir_name = \"hsrate_0-0/\"\n",
    "prefix_fn = \"hsrate_0.0_\"\n",
    "suffix_fn = \".sp.tre\"\n",
    "for (i in 0:0){\n",
    "    # print out epoch times (no uncertainty in age here)\n",
    "    fn = paste0(dir_name, prefix_fn, i, suffix_fn)\n",
    "    tree = read.nexus(file = fn)\n",
    "    br_times = sort(c(0.0, branching.times(tree)), decreasing = TRUE)\n",
    "    out_fn = paste0(dir_name, prefix_fn, i, \".times.txt\")\n",
    "    write(br_times, file = out_fn, ncolumns = 1)\n",
    "    # print out connectivity graphs\n",
    "    \n",
    "}"
   ]
  },
  {
   "cell_type": "code",
   "execution_count": null,
   "metadata": {},
   "outputs": [],
   "source": [
    "def nexus_range_prefix_print(num_hosts, num_symbs, file_begin):\n",
    "    file_name_end = \".range.nex\"\n",
    "    file_begin += file_name_end       \n",
    "    file_handle = open(file_begin, \"w\")\n",
    "    # the header part\n",
    "    file_handle.write(\"#NEXUS\\n\")\n",
    "    file_handle.write(\"\\n\")\n",
    "    file_handle.write(\"Begin data;\")\n",
    "    file_handle.write(\"Dimensions ntax=\"+str(num_symbs)+\" nchar=\"+str(num_hosts)+\"=;\")\n",
    "    file_handle.write(\"Format datatype=Standard missing=? gap=- labels=\"01\";\")\n",
    "    file_handle.write(\"Matrix\\n\")\n",
    "    \n",
    "    # the symbionts and associated hosts\n",
    "    \n",
    "    \n",
    "    \n",
    "    file_handle.write(\";\\nEnd;\")\n",
    "    file_handle.close()"
   ]
  },
  {
   "cell_type": "markdown",
   "metadata": {},
   "source": [
    "Finally we just need to write up our Rev scripts and run them. To be done outside of ipython notebook..."
   ]
  }
 ],
 "metadata": {
  "kernelspec": {
   "display_name": "Python 3",
   "language": "python",
   "name": "python3"
  },
  "language_info": {
   "codemirror_mode": {
    "name": "ipython",
    "version": 3
   },
   "file_extension": ".py",
   "mimetype": "text/x-python",
   "name": "python",
   "nbconvert_exporter": "python",
   "pygments_lexer": "ipython3",
   "version": "3.6.3"
  }
 },
 "nbformat": 4,
 "nbformat_minor": 2
}
