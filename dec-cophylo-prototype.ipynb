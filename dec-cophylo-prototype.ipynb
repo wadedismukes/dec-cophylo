{
 "cells": [
  {
   "cell_type": "markdown",
   "metadata": {},
   "source": [
    "# Prototyping simulation study using DEC model for Cophylogeny\n",
    "\n",
    "This notebook is a basic run through of the workflow that will be used to perform simulations for testing the usefulness of utilizing the epoch-DEC model used in biogeography for examining cophylogeny. Here the dispersal part of this model corresponds to host-switching, the extirpation part to extinction of a symbiont within a host, and the cladogenesis part the various sorting events occuring when the host speciates (including cospeciation). The hosts here act as the biogeographic areas upon which the symbionts live. For now I am testing this using only true trees simulated using [`treeducken`](https://github.com/wadedismukes/treeducken). While these simulations will reflect a mode of gene and spceies tree evolution and are thus not the most biologically realistic way to test this model, I think this is a good starting place. Especially with regards to comparing these models to other methods for examining cophylogeny. \n",
    "\n",
    "\n",
    "### Functions for making `treeducken` settings files\n",
    "\n",
    "Below are a few functions used to make the settings files for treeducken. For now I am varying only transfer rate with 12 extant tips. The first of these functions `calculate_birth_rate` calculates the birth rate for a number of extant tips, given an expected tree depth, and turnover rate. This allows all of the simulation regimes to have roughly the same timescale upon which they act. The last two functions in this codeblock are simply utilities for generating the settings files. "
   ]
  },
  {
   "cell_type": "code",
   "execution_count": 52,
   "metadata": {},
   "outputs": [],
   "source": [
    "import math\n",
    "\n",
    "def calculate_birth_rate(ntaxa, k, turnover, tre_dep):\n",
    "    if(turnover != 0):\n",
    "        sum_val_i = 0.0\n",
    "        sum_val_j = 0.0\n",
    "        birth_rate = ((k + 1) / tre_dep) * calculate_combinations(ntaxa, k + 1) * (-1)**k\n",
    "        for i in range(0, ntaxa - k - 1):\n",
    "            temp = calculate_combinations(ntaxa - k - 1, i)\n",
    "            temp *= 1 / ((k + i + 1) * turnover)\n",
    "            temp *= (1/turnover - 1)**(k + i)\n",
    "            for j in range(1, k + i + 1):\n",
    "                temp_j = calculate_combinations(k + i, j)\n",
    "                temp_j *= ((-1)**j) / j\n",
    "                temp_j *= (1 - (1 / (1 - turnover))**j)\n",
    "                sum_val_j += temp_j\n",
    "            sum_val_i += temp * (math.log(1 / (1 - turnover)) - sum_val_j)\n",
    "        birth_rate *= sum_val_i  \n",
    "    else:\n",
    "        sum_val = 0.0\n",
    "        for i in range(k + 1, ntaxa + 1):\n",
    "            sum_val += (1 / (i * tre_dep))\n",
    "        birth_rate = abs(2.0 * sum_val)\n",
    "    return(birth_rate)\n",
    "\n",
    "\n",
    "def calculate_combinations(n, k):\n",
    "    n_fac = math.factorial(n)\n",
    "    k_fac = math.factorial(k)\n",
    "    n_k_fac = math.factorial(n - k)\n",
    "    numer = math.log(n_fac)\n",
    "    denom = math.log(k_fac) + math.log(n_k_fac)\n",
    "    return(round(math.exp(numer - denom)))\n",
    "\n",
    "def make_settings_dict(sbr, sdr, trr, gbr, gdr, nt, ipp, ne, reps, nl, ng):\n",
    "    settings_dict = {}\n",
    "    key_list = [(\"-sbr\",sbr),\n",
    "                (\"-sdr\",sdr),\n",
    "                (\"-gbr\", gbr),\n",
    "                (\"-gdr\", gdr),\n",
    "                (\"-lgtr\",trr),\n",
    "                (\"-ipp\",ipp),\n",
    "                (\"-nt\",nt),\n",
    "                (\"-r\",reps),\n",
    "                (\"-ne\",ne),\n",
    "                (\"-nl\",nl),\n",
    "                (\"-ng\",ng),\n",
    "                (\"-o\", \"hsrate_\" + str(trr)),\n",
    "                (\"-sout\", 0)]\n",
    "    settings_dict = dict(key_list)\n",
    "    return(settings_dict)\n",
    "\n",
    "def settings_writer(dictionary_settings, file_begin):\n",
    "    file_name_end = \"_settings.txt\"\n",
    "    file_begin += file_name_end       \n",
    "    file_handle = open(file_begin, \"w\")\n",
    "    for key, value in dictionary_settings.items():\n",
    "        file_handle.write(key + \" \" + str(value) + \"\\n\")\n",
    "    file_handle.close()"
   ]
  },
  {
   "cell_type": "markdown",
   "metadata": {},
   "source": [
    "### Setting simulation parameters and printing files\n",
    "Here I have set the model parameters to be printed into settings files at the top. The for loop generates the number of regimes I want to simulate under. The number of tips and timing (13 here corresponding to 13 million years ago (mya)) were chosen to mimic the Geomyidae gophers and their chewing lice parasites."
   ]
  },
  {
   "cell_type": "code",
   "execution_count": 53,
   "metadata": {},
   "outputs": [],
   "source": [
    "nt = 12\n",
    "turnover = 0.5\n",
    "br = calculate_birth_rate(nt, 1, turnover, 13)\n",
    "dr = br * turnover\n",
    "trr = [0.0, 0.25, 0.5, 1.0]\n",
    "gbr = 0.1\n",
    "gdr = 0.1\n",
    "reps = 1000\n",
    "nl = 1\n",
    "ng = 1\n",
    "ipp = 1.0\n",
    "ne = 1.0\n",
    "num_setting_regimes = len(trr)\n",
    "\n",
    "for i in range(num_setting_regimes):\n",
    "    settings_regime_name = str(trr[i]) + \"_trate\"\n",
    "    sett_dict = make_settings_dict(br, dr, trr[i], gbr, gdr, nt, 1, 1, reps, nl, ng)\n",
    "    settings_writer(sett_dict, settings_regime_name)"
   ]
  },
  {
   "cell_type": "markdown",
   "metadata": {},
   "source": [
    "## Running simulations\n",
    "Now that I have printed out my settings files, I can use `treeducken` to generate my trees. First, I have to install `treeducken` here in the docker instance of this jupyter notebook."
   ]
  },
  {
   "cell_type": "code",
   "execution_count": 2,
   "metadata": {},
   "outputs": [],
   "source": [
    "%%bash\n",
    "if [ ! -d treeducken/ ]; then\n",
    "    git clone https://github.com/wadedismukes/treeducken.git\n",
    "    cd treeducken/src && make install\n",
    "fi"
   ]
  },
  {
   "cell_type": "markdown",
   "metadata": {},
   "source": [
    "Now run the simulations! "
   ]
  },
  {
   "cell_type": "code",
   "execution_count": 7,
   "metadata": {},
   "outputs": [
    {
     "name": "stdout",
     "output_type": "stream",
     "text": [
      "############################################################\n",
      "####\ttreeducken, version 0.1 \t\t\t####\n",
      "####\te845a82c08ba308f75f94a270b81a36870299b94\t####\n",
      "############################################################\n",
      "Simulating sets of three trees.\n",
      "\t\toutput file name prefix         = hsrate_0.0\n",
      "\t\tNumber of extant taxa           = 12\n",
      "\t\tNumber of replicates            = 1000\n",
      "\t\tNumber of loci to simulate      = 1\n",
      "\t\tNumber of genes to simulate     = 1\n",
      "\t\tSpecies birth rate              = 10642.5\n",
      "\t\tSpecies death rate              = 5321.25\n",
      "\t\tGene birth rate                 = 0.1\n",
      "\t\tGene death rate                 = 0.1\n",
      "\t\tGene transfer rate              = 0\n",
      "\t\tIndividuals to sample per locus = 1\n",
      "\t\tEffective pop size per locus    = 1\n",
      "\t\tTree fraction to set outgroup   = 0\n",
      "\t\tSpecies tree input as newick    = \n",
      "\t\tTree scale                      = -1\n",
      "\n",
      "Seeds = {52702, 23707}\n",
      "############################################################\n",
      "####\ttreeducken, version 0.1 \t\t\t####\n",
      "####\te845a82c08ba308f75f94a270b81a36870299b94\t####\n",
      "############################################################\n",
      "Simulating sets of three trees.\n",
      "\t\toutput file name prefix         = hsrate_0.25\n",
      "\t\tNumber of extant taxa           = 12\n",
      "\t\tNumber of replicates            = 1000\n",
      "\t\tNumber of loci to simulate      = 1\n",
      "\t\tNumber of genes to simulate     = 1\n",
      "\t\tSpecies birth rate              = 10642.5\n",
      "\t\tSpecies death rate              = 5321.25\n",
      "\t\tGene birth rate                 = 0.1\n",
      "\t\tGene death rate                 = 0.1\n",
      "\t\tGene transfer rate              = 0.25\n",
      "\t\tIndividuals to sample per locus = 1\n",
      "\t\tEffective pop size per locus    = 1\n",
      "\t\tTree fraction to set outgroup   = 0\n",
      "\t\tSpecies tree input as newick    = \n",
      "\t\tTree scale                      = -1\n",
      "\n",
      "Seeds = {52720, 23707}\n",
      "############################################################\n",
      "####\ttreeducken, version 0.1 \t\t\t####\n",
      "####\te845a82c08ba308f75f94a270b81a36870299b94\t####\n",
      "############################################################\n",
      "Simulating sets of three trees.\n",
      "\t\toutput file name prefix         = hsrate_0.5\n",
      "\t\tNumber of extant taxa           = 12\n",
      "\t\tNumber of replicates            = 1000\n",
      "\t\tNumber of loci to simulate      = 1\n",
      "\t\tNumber of genes to simulate     = 1\n",
      "\t\tSpecies birth rate              = 10642.5\n",
      "\t\tSpecies death rate              = 5321.25\n",
      "\t\tGene birth rate                 = 0.1\n",
      "\t\tGene death rate                 = 0.1\n",
      "\t\tGene transfer rate              = 0.5\n",
      "\t\tIndividuals to sample per locus = 1\n",
      "\t\tEffective pop size per locus    = 1\n",
      "\t\tTree fraction to set outgroup   = 0\n",
      "\t\tSpecies tree input as newick    = \n",
      "\t\tTree scale                      = -1\n",
      "\n",
      "Seeds = {52738, 23707}\n",
      "############################################################\n",
      "####\ttreeducken, version 0.1 \t\t\t####\n",
      "####\te845a82c08ba308f75f94a270b81a36870299b94\t####\n",
      "############################################################\n",
      "Simulating sets of three trees.\n",
      "\t\toutput file name prefix         = hsrate_1.0\n",
      "\t\tNumber of extant taxa           = 12\n",
      "\t\tNumber of replicates            = 1000\n",
      "\t\tNumber of loci to simulate      = 1\n",
      "\t\tNumber of genes to simulate     = 1\n",
      "\t\tSpecies birth rate              = 10642.5\n",
      "\t\tSpecies death rate              = 5321.25\n",
      "\t\tGene birth rate                 = 0.1\n",
      "\t\tGene death rate                 = 0.1\n",
      "\t\tGene transfer rate              = 1\n",
      "\t\tIndividuals to sample per locus = 1\n",
      "\t\tEffective pop size per locus    = 1\n",
      "\t\tTree fraction to set outgroup   = 0\n",
      "\t\tSpecies tree input as newick    = \n",
      "\t\tTree scale                      = -1\n",
      "\n",
      "Seeds = {52759, 23707}\n"
     ]
    }
   ],
   "source": [
    "%%bash\n",
    "\n",
    "find *_settings.txt | xargs -I {} treeducken/treeducken -i {}"
   ]
  },
  {
   "cell_type": "code",
   "execution_count": 8,
   "metadata": {},
   "outputs": [],
   "source": [
    "%%bash\n",
    "mkdir -p settings\n",
    "mkdir -p hsrate_0-0\n",
    "mkdir -p hsrate_0-25\n",
    "mkdir -p hsrate_0-5\n",
    "mkdir -p hsrate_1-0\n",
    "mv *settings.txt settings/\n",
    "mv hsrate_0.0* hsrate_0-0/\n",
    "mv hsrate_0.25* hsrate_0-25/\n",
    "mv hsrate_0.5* hsrate_0-5/\n",
    "mv hsrate_1.0* hsrate_1-0/"
   ]
  },
  {
   "cell_type": "markdown",
   "metadata": {},
   "source": [
    "### Creating extra datafiles for use with DEC model\n",
    "With trees in hand, I need to make a few more files to run the epoch DEC model. I need to make a \"range\" file for the symbionts. To do this we need to parse the tips of the locus tree which is our stand-in for the symbiont tree. First, I'm going to set up the R environment to process tree files."
   ]
  },
  {
   "cell_type": "code",
   "execution_count": 13,
   "metadata": {},
   "outputs": [
    {
     "name": "stdout",
     "output_type": "stream",
     "text": [
      "Fetching package metadata ...............\n",
      "Solving package specifications: .\n",
      "\n",
      "# All requested packages already installed.\n",
      "# packages in environment at /opt/conda:\n",
      "#\n",
      "ete3                      3.1.1              pyhf5214e1_0    etetoolkit\n",
      "ete_toolchain             3.0.0                h73706c9_0    etetoolkit\n"
     ]
    }
   ],
   "source": [
    "%%bash\n",
    "conda install -y -c etetoolkit ete3 ete_toolchain"
   ]
  },
  {
   "cell_type": "markdown",
   "metadata": {},
   "source": [
    "I will also need to encode my \"paleogeographic\" data in terms of the divergence times of the species which define our epochs, the distances defined by the species tree that way we can test whether random vs. clade biased host-switching provides a better fit. We also need connectivity to define which species are available to be hosts at which times."
   ]
  },
  {
   "cell_type": "code",
   "execution_count": 44,
   "metadata": {},
   "outputs": [],
   "source": [
    "import ete3\n",
    "# read in species trees to get the min and max ages of \"epochs\"\n",
    "def nexus_range_print(fn, loc_tree):  \n",
    "    file_handle = open(fn, \"w\")\n",
    "    file_handle.write(\"#NEXUS\\n\")\n",
    "    file_handle.write(\"Begin data;\")\n",
    "    file_handle.write(\"Dimensions ntax =\"+str(ntax)+\" nchar=\"+str(nsymb)+\";\")\n",
    "    file_handle.write(\"Format datatype=Standard missing=? gap=- labels=\\\"01\\\";\")\n",
    "    file_handle.write(\"Matrix\")\n",
    "           \n",
    "    file_handle\n",
    "    file_handle.close()\n",
    "\n",
    "\n",
    "def get_newick_from_nex(tree_fn):\n",
    "    file_handle = open(tree_fn, \"r\")\n",
    "    line_count = 0\n",
    "    for line in file_handle:\n",
    "        if(line_count == 2):\n",
    "            newick_tree = line.strip(\"\\n\")\n",
    "            break\n",
    "    return(newick_tree)\n",
    "                      \n",
    "dir_name = \"hsrate_0-0/\"\n",
    "prefix_fn = \"hsrate_0.0_\"\n",
    "host_tree_suffix_fn = \".sp.tre\"\n",
    "symb_tree_suffix_fn = \"_0.loc.tre\"\n",
    "brtimes_suffix_fn = \".times.txt\"\n",
    "ranges_suffix_fn = \".range.nex\"\n",
    "\n",
    "\n",
    "for i in range(0,0):\n",
    "    # print out epoch times (no uncertainty in age here)\n",
    "    host_fn = dir_name + prefix_fn + str(i) + host_tree_suffix_fn\n",
    "    symb_fn = dir_name + prefix_fn + str(i) + symb_tree_suffix_fn\n",
    "    host_nwck_tr = get_newick_from_nex(host_fn)\n",
    "    symb_nwck_tr = get_newick_from_nex(symb_fn)\n",
    "\n",
    "    host_tree = Tree(host_nwck_tr)\n",
    "    symb_tree = Tree(symb_nwck_tr)\n",
    "    host_tree.show()\n",
    "    # print out times\n",
    "    #out_fn = paste0(dir_name, prefix_fn, i)\n",
    "    #brtimes_out_fn = paste0(out_fn, ranges_suffix_fn)\n",
    "    #br_times = sort(c(0.0, branching.times(host_tree)), decreasing = TRUE)\n",
    "    #write(br_times, file = brtimes_out_fn, ncolumns = 1)\n",
    "    \n",
    "    #nex_range_outfn = paste0(out_fn, ranges_suffix_fn)\n",
    "    #nexus_range_print(nex_range_outfn, symb_tree)\n",
    "    \n",
    "    # print out connectivity graphs\n",
    "    "
   ]
  },
  {
   "cell_type": "markdown",
   "metadata": {},
   "source": [
    "Finally we just need to write up our Rev scripts and run them. To be done outside of ipython notebook..."
   ]
  },
  {
   "cell_type": "code",
   "execution_count": null,
   "metadata": {},
   "outputs": [],
   "source": []
  }
 ],
 "metadata": {
  "kernelspec": {
   "display_name": "Python 3",
   "language": "python",
   "name": "python3"
  },
  "language_info": {
   "codemirror_mode": {
    "name": "ipython",
    "version": 3
   },
   "file_extension": ".py",
   "mimetype": "text/x-python",
   "name": "python",
   "nbconvert_exporter": "python",
   "pygments_lexer": "ipython3",
   "version": "3.6.3"
  }
 },
 "nbformat": 4,
 "nbformat_minor": 2
}
